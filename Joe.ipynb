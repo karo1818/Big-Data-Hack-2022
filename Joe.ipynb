{
 "cells": [
  {
   "cell_type": "code",
   "execution_count": 25,
   "id": "1d6d99f1-0d85-409e-bb50-a736a508baab",
   "metadata": {},
   "outputs": [
    {
     "name": "stdout",
     "output_type": "stream",
     "text": [
      "joe is  susceptable\n",
      "Joe get a  60\n",
      "Joe is  infected\n",
      "joe has been sick for 1 days\n",
      "joe has been sick for 2 days\n",
      "joe has been sick for 3 days\n",
      "joe has been sick for 4 days\n",
      "joe has been sick for 5 days\n",
      "recovered\n",
      "The End\n"
     ]
    }
   ],
   "source": [
    "import random\n",
    "joe='susceptable'\n",
    "myInfectionRate=10\n",
    "\n",
    "#Funciones\n",
    "def riskOfInfection(infectionRate):\n",
    "    roll = random.randint(0, 100)\n",
    "    return (roll<=infectionRate)\n",
    "       \n",
    "\n",
    "#Codigo\n",
    "while (joe !='recovered'):\n",
    "    print(\"joe is \", joe)\n",
    "    numero = random.randint(0, 100)\n",
    "    print(\"Joe get a \", numero)\n",
    "    \n",
    "    if (riskOfInfection(myInfectionRate)):\n",
    "        joe='infected'\n",
    "        print(\"Joe is \", joe)\n",
    "\n",
    "    if(joe=='infected'):\n",
    "        for i in range(1,6):\n",
    "            print('joe has been sick for',i,'days')\n",
    "            joe='recovered'    \n",
    "\n",
    "#Confimacion final            \n",
    "print(joe)\n",
    "print(\"The End\")\n",
    "\n"
   ]
  },
  {
   "cell_type": "code",
   "execution_count": null,
   "id": "ace70a8b-51d5-4d5f-a517-d294a431cce9",
   "metadata": {},
   "outputs": [],
   "source": []
  }
 ],
 "metadata": {
  "IMAGE_NAME": "taccsciapps/ds-nb-img:base-0.1.0",
  "UUID": "8932ec4e-75a4-11ed-9649-2adb5683678d",
  "kernelspec": {
   "display_name": "Python 3 (ipykernel)",
   "language": "python",
   "name": "python3"
  },
  "language_info": {
   "codemirror_mode": {
    "name": "ipython",
    "version": 3
   },
   "file_extension": ".py",
   "mimetype": "text/x-python",
   "name": "python",
   "nbconvert_exporter": "python",
   "pygments_lexer": "ipython3",
   "version": "3.9.10"
  }
 },
 "nbformat": 4,
 "nbformat_minor": 5
}
